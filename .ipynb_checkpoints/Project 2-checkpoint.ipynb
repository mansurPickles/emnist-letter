{
 "cells": [
  {
   "cell_type": "code",
   "execution_count": 19,
   "metadata": {},
   "outputs": [],
   "source": [
    "from __future__ import print_function\n",
    "\n",
    "import keras\n",
    "from keras.datasets import mnist\n",
    "from keras.models import Sequential\n",
    "from keras.layers import Dense, Dropout\n",
    "from keras.optimizers import RMSprop\n",
    "from scipy.io import loadmat\n",
    "from matplotlib.image import imread\n",
    "from matplotlib import pyplot as plt"
   ]
  },
  {
   "cell_type": "code",
   "execution_count": 2,
   "metadata": {},
   "outputs": [
    {
     "name": "stdout",
     "output_type": "stream",
     "text": [
      "60000 train samples\n",
      "10000 test samples\n"
     ]
    }
   ],
   "source": [
    "batch_size = 128\n",
    "num_classes = 10\n",
    "epochs = 20\n",
    "\n",
    "# the data, split between train and test sets\n",
    "(x_train, y_train), (x_test, y_test) = mnist.load_data()\n",
    "\n",
    "x_train = x_train.reshape(60000, 784)\n",
    "x_test = x_test.reshape(10000, 784)\n",
    "x_train = x_train.astype('float32')\n",
    "x_test = x_test.astype('float32')\n",
    "x_train /= 255\n",
    "x_test /= 255\n",
    "print(x_train.shape[0], 'train samples')\n",
    "print(x_test.shape[0], 'test samples')\n",
    "\n",
    "# convert class vectors to binary class matrices\n",
    "y_train = keras.utils.to_categorical(y_train, num_classes)\n",
    "y_test = keras.utils.to_categorical(y_test, num_classes)"
   ]
  },
  {
   "cell_type": "code",
   "execution_count": 4,
   "metadata": {},
   "outputs": [
    {
     "name": "stdout",
     "output_type": "stream",
     "text": [
      "Model: \"sequential_2\"\n",
      "_________________________________________________________________\n",
      "Layer (type)                 Output Shape              Param #   \n",
      "=================================================================\n",
      "dense_4 (Dense)              (None, 512)               401920    \n",
      "_________________________________________________________________\n",
      "dropout_3 (Dropout)          (None, 512)               0         \n",
      "_________________________________________________________________\n",
      "dense_5 (Dense)              (None, 512)               262656    \n",
      "_________________________________________________________________\n",
      "dropout_4 (Dropout)          (None, 512)               0         \n",
      "_________________________________________________________________\n",
      "dense_6 (Dense)              (None, 10)                5130      \n",
      "=================================================================\n",
      "Total params: 669,706\n",
      "Trainable params: 669,706\n",
      "Non-trainable params: 0\n",
      "_________________________________________________________________\n"
     ]
    }
   ],
   "source": [
    "model = Sequential()\n",
    "model.add(Dense(512, activation='relu', input_shape=(784,)))\n",
    "model.add(Dropout(0.2))\n",
    "model.add(Dense(512, activation='relu'))\n",
    "model.add(Dropout(0.2))\n",
    "model.add(Dense(num_classes, activation='softmax'))\n",
    "\n",
    "model.summary()\n",
    "model.compile(loss='categorical_crossentropy',\n",
    "              optimizer=RMSprop(),\n",
    "              metrics=['accuracy'])"
   ]
  },
  {
   "cell_type": "code",
   "execution_count": 5,
   "metadata": {},
   "outputs": [
    {
     "name": "stdout",
     "output_type": "stream",
     "text": [
      "Train on 60000 samples, validate on 10000 samples\n",
      "Epoch 1/20\n",
      "60000/60000 [==============================] - 14s 241us/step - loss: 0.2474 - accuracy: 0.9248 - val_loss: 0.1121 - val_accuracy: 0.9656\n",
      "Epoch 2/20\n",
      "60000/60000 [==============================] - 15s 246us/step - loss: 0.1024 - accuracy: 0.9689 - val_loss: 0.0868 - val_accuracy: 0.9732\n",
      "Epoch 3/20\n",
      "60000/60000 [==============================] - 14s 241us/step - loss: 0.0739 - accuracy: 0.9776 - val_loss: 0.0769 - val_accuracy: 0.9774\n",
      "Epoch 4/20\n",
      "60000/60000 [==============================] - 14s 229us/step - loss: 0.0596 - accuracy: 0.9821 - val_loss: 0.0738 - val_accuracy: 0.9804\n",
      "Epoch 5/20\n",
      "60000/60000 [==============================] - 13s 220us/step - loss: 0.0515 - accuracy: 0.9844 - val_loss: 0.0885 - val_accuracy: 0.9788\n",
      "Epoch 6/20\n",
      "60000/60000 [==============================] - 14s 240us/step - loss: 0.0438 - accuracy: 0.9868 - val_loss: 0.0844 - val_accuracy: 0.9791\n",
      "Epoch 7/20\n",
      "60000/60000 [==============================] - 14s 227us/step - loss: 0.0391 - accuracy: 0.9883 - val_loss: 0.0713 - val_accuracy: 0.9843\n",
      "Epoch 8/20\n",
      "60000/60000 [==============================] - 14s 239us/step - loss: 0.0326 - accuracy: 0.9898 - val_loss: 0.0823 - val_accuracy: 0.9821\n",
      "Epoch 9/20\n",
      "60000/60000 [==============================] - 14s 232us/step - loss: 0.0306 - accuracy: 0.9910 - val_loss: 0.0819 - val_accuracy: 0.9812\n",
      "Epoch 10/20\n",
      "60000/60000 [==============================] - 14s 235us/step - loss: 0.0288 - accuracy: 0.9914 - val_loss: 0.0899 - val_accuracy: 0.9813\n",
      "Epoch 11/20\n",
      "60000/60000 [==============================] - 16s 258us/step - loss: 0.0250 - accuracy: 0.9928 - val_loss: 0.0914 - val_accuracy: 0.9823\n",
      "Epoch 12/20\n",
      "60000/60000 [==============================] - 15s 248us/step - loss: 0.0225 - accuracy: 0.9929 - val_loss: 0.0960 - val_accuracy: 0.9837\n",
      "Epoch 13/20\n",
      "60000/60000 [==============================] - 14s 241us/step - loss: 0.0223 - accuracy: 0.9939 - val_loss: 0.1176 - val_accuracy: 0.9808\n",
      "Epoch 14/20\n",
      "60000/60000 [==============================] - 13s 215us/step - loss: 0.0211 - accuracy: 0.9939 - val_loss: 0.1015 - val_accuracy: 0.9831\n",
      "Epoch 15/20\n",
      "60000/60000 [==============================] - 13s 218us/step - loss: 0.0213 - accuracy: 0.9942 - val_loss: 0.0989 - val_accuracy: 0.9827\n",
      "Epoch 16/20\n",
      "60000/60000 [==============================] - 13s 220us/step - loss: 0.0189 - accuracy: 0.9948 - val_loss: 0.1090 - val_accuracy: 0.9833\n",
      "Epoch 17/20\n",
      "60000/60000 [==============================] - 14s 230us/step - loss: 0.0189 - accuracy: 0.9946 - val_loss: 0.1121 - val_accuracy: 0.9827\n",
      "Epoch 18/20\n",
      "60000/60000 [==============================] - 13s 216us/step - loss: 0.0167 - accuracy: 0.9951 - val_loss: 0.1192 - val_accuracy: 0.9833\n",
      "Epoch 19/20\n",
      "60000/60000 [==============================] - 13s 220us/step - loss: 0.0171 - accuracy: 0.9952 - val_loss: 0.1111 - val_accuracy: 0.9846\n",
      "Epoch 20/20\n",
      "60000/60000 [==============================] - 15s 251us/step - loss: 0.0167 - accuracy: 0.9955 - val_loss: 0.1247 - val_accuracy: 0.9835\n"
     ]
    }
   ],
   "source": [
    "history = model.fit(x_train, y_train,\n",
    "                    batch_size=batch_size,\n",
    "                    epochs=epochs,\n",
    "                    verbose=1,\n",
    "                    validation_data=(x_test, y_test))\n",
    "score = model.evaluate(x_test, y_test, verbose=0)"
   ]
  },
  {
   "cell_type": "code",
   "execution_count": 6,
   "metadata": {},
   "outputs": [
    {
     "name": "stdout",
     "output_type": "stream",
     "text": [
      "Test loss: 0.12469846305465491\n",
      "Test accuracy: 0.9835000038146973\n"
     ]
    }
   ],
   "source": [
    "print('Test loss:', score[0])\n",
    "print('Test accuracy:', score[1])"
   ]
  },
  {
   "cell_type": "code",
   "execution_count": 11,
   "metadata": {},
   "outputs": [],
   "source": [
    "data = loadmat(\"emnist-letters.mat\")\n",
    "data = data['dataset']"
   ]
  },
  {
   "cell_type": "code",
   "execution_count": 13,
   "metadata": {},
   "outputs": [],
   "source": [
    "X_train = data['train'][0,0]['images'][0,0]\n",
    "y_train = data['train'][0,0]['labels'][0,0]\n",
    "X_test = data['test'][0,0]['images'][0,0]\n",
    "y_train = data['test'][0,0]['labels'][0,0]"
   ]
  },
  {
   "cell_type": "code",
   "execution_count": 14,
   "metadata": {},
   "outputs": [
    {
     "data": {
      "text/plain": [
       "(124800, 784)"
      ]
     },
     "execution_count": 14,
     "metadata": {},
     "output_type": "execute_result"
    }
   ],
   "source": [
    "X_train.shape"
   ]
  },
  {
   "cell_type": "code",
   "execution_count": 25,
   "metadata": {},
   "outputs": [],
   "source": [
    "a = X_train[1]"
   ]
  },
  {
   "cell_type": "code",
   "execution_count": 26,
   "metadata": {},
   "outputs": [],
   "source": [
    "a = a.reshape(28,28)"
   ]
  },
  {
   "cell_type": "code",
   "execution_count": 27,
   "metadata": {},
   "outputs": [
    {
     "data": {
      "text/plain": [
       "<matplotlib.image.AxesImage at 0x65fd44990>"
      ]
     },
     "execution_count": 27,
     "metadata": {},
     "output_type": "execute_result"
    },
    {
     "data": {
      "image/png": "[encoded data removed]",
      "text/plain": [
       "<Figure size 432x288 with 1 Axes>"
      ]
     },
     "metadata": {
      "needs_background": "light"
     },
     "output_type": "display_data"
    }
   ],
   "source": [
    "plt.imshow(a)"
   ]
  },
  {
   "cell_type": "code",
   "execution_count": null,
   "metadata": {},
   "outputs": [],
   "source": []
  }
 ],
 "metadata": {
  "kernelspec": {
   "display_name": "Python 3",
   "language": "python",
   "name": "python3"
  },
  "language_info": {
   "codemirror_mode": {
    "name": "ipython",
    "version": 3
   },
   "file_extension": ".py",
   "mimetype": "text/x-python",
   "name": "python",
   "nbconvert_exporter": "python",
   "pygments_lexer": "ipython3",
   "version": "3.7.6"
  }
 },
 "nbformat": 4,
 "nbformat_minor": 2
}
